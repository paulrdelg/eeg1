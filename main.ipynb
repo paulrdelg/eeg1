{
 "cells": [
  {
   "cell_type": "code",
   "execution_count": 1,
   "id": "86c985bc-b758-4c6c-9951-cc8ca4fb6847",
   "metadata": {},
   "outputs": [],
   "source": [
    "# Imports\n",
    "import tensorflow as tf"
   ]
  },
  {
   "cell_type": "code",
   "execution_count": 2,
   "id": "4c619bde-1944-4722-a298-faffe909a97b",
   "metadata": {},
   "outputs": [],
   "source": [
    "# Model Creation\n",
    "model = tf.keras.Sequential()\n",
    "model.add(tf.keras.layers.Conv1D(40, 10, activation='relu'))"
   ]
  },
  {
   "cell_type": "code",
   "execution_count": 4,
   "id": "7829f94f-64c8-40c3-9df4-0e54b41b5517",
   "metadata": {},
   "outputs": [],
   "source": [
    "\n",
    "model.compile(loss='binary_crossentropy', optimizer='adam', metrics=['accuracy'])"
   ]
  },
  {
   "cell_type": "code",
   "execution_count": null,
   "id": "24ad01c8-b519-43d8-b0e6-a6f1006b0de7",
   "metadata": {},
   "outputs": [],
   "source": []
  }
 ],
 "metadata": {
  "kernelspec": {
   "display_name": "Python 3",
   "language": "python",
   "name": "python3"
  },
  "language_info": {
   "codemirror_mode": {
    "name": "ipython",
    "version": 3
   },
   "file_extension": ".py",
   "mimetype": "text/x-python",
   "name": "python",
   "nbconvert_exporter": "python",
   "pygments_lexer": "ipython3",
   "version": "3.9.10"
  }
 },
 "nbformat": 4,
 "nbformat_minor": 5
}
