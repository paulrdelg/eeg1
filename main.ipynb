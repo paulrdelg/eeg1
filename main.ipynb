{
 "cells": [
  {
   "cell_type": "markdown",
   "id": "cdfbdb28-4f9a-43f9-a016-244e9526806e",
   "metadata": {},
   "source": [
    "## Project Final for ECE 556: AI for Radar and Remote Sensing\n",
    "Paul Delgado"
   ]
  },
  {
   "cell_type": "code",
   "execution_count": 8,
   "id": "8061afc1-1060-4ed2-9ced-000293a3b200",
   "metadata": {},
   "outputs": [],
   "source": [
    "# Python packages\n",
    "import requests\n",
    "import zipfile\n",
    "\n",
    "# Third-party packages\n",
    "import tensorflow as tf"
   ]
  },
  {
   "cell_type": "markdown",
   "id": "b91d39aa-59e4-497e-a6e3-34abf9a33333",
   "metadata": {},
   "source": [
    "## Prepare Dataset"
   ]
  },
  {
   "cell_type": "code",
   "execution_count": 6,
   "id": "caeedcb0-ebcc-4799-91b5-dfcfc972ff19",
   "metadata": {},
   "outputs": [],
   "source": [
    "# Get original dataset from online source\n",
    "filename = 'BCI-SSVEP_Database_Aceves.zip'\n",
    "url = 'https://archive.ics.uci.edu/ml/machine-learning-databases/00457/' + filename\n",
    "r = requests.get(url, allow_redirects=True)\n",
    "f = open(filename, 'wb')\n",
    "f.write(r.content)\n",
    "f.close()"
   ]
  },
  {
   "cell_type": "code",
   "execution_count": 11,
   "id": "abc14ab9-3f7b-45b2-897b-fa5d4d6bda6c",
   "metadata": {},
   "outputs": [],
   "source": [
    "zip_ref = zipfile.ZipFile(filename, 'r')\n",
    "zip_ref.extractall('BCI-SSVEP_Database_Aceves')"
   ]
  },
  {
   "cell_type": "code",
   "execution_count": null,
   "id": "edc8a75d-1ae4-4679-9c44-33f0cb00a28d",
   "metadata": {},
   "outputs": [],
   "source": []
  },
  {
   "cell_type": "markdown",
   "id": "06ee7812-caeb-4718-b8b3-4769af91af29",
   "metadata": {},
   "source": [
    "### Build model"
   ]
  },
  {
   "cell_type": "code",
   "execution_count": 2,
   "id": "4c619bde-1944-4722-a298-faffe909a97b",
   "metadata": {},
   "outputs": [],
   "source": [
    "model = tf.keras.Sequential()"
   ]
  },
  {
   "cell_type": "code",
   "execution_count": 3,
   "id": "7829f94f-64c8-40c3-9df4-0e54b41b5517",
   "metadata": {},
   "outputs": [],
   "source": [
    "model.add(tf.keras.Input(shape=8, name=\"inputLayer\"))\n",
    "model.add(tf.keras.layers.Dense(512*4))\n",
    "#model.add(tf.keras.layers.Conv1D(40, 10, activation='relu'))\n",
    "model.add(tf.keras.layers.Dense(5, activation = tf.nn.softmax))"
   ]
  },
  {
   "cell_type": "code",
   "execution_count": 4,
   "id": "24ad01c8-b519-43d8-b0e6-a6f1006b0de7",
   "metadata": {},
   "outputs": [],
   "source": [
    "model.compile(loss=tf.keras.losses.MeanAbsoluteError(), \n",
    "              optimizer=tf.keras.optimizers.Adam(), \n",
    "              metrics=tf.keras.metrics.Accuracy())"
   ]
  },
  {
   "cell_type": "code",
   "execution_count": 5,
   "id": "2b161af7-2a89-471c-82bc-05e16d12a719",
   "metadata": {},
   "outputs": [
    {
     "name": "stdout",
     "output_type": "stream",
     "text": [
      "Model: \"sequential\"\n",
      "_________________________________________________________________\n",
      " Layer (type)                Output Shape              Param #   \n",
      "=================================================================\n",
      " dense (Dense)               (None, 2048)              18432     \n",
      "                                                                 \n",
      " dense_1 (Dense)             (None, 5)                 10245     \n",
      "                                                                 \n",
      "=================================================================\n",
      "Total params: 28,677\n",
      "Trainable params: 28,677\n",
      "Non-trainable params: 0\n",
      "_________________________________________________________________\n"
     ]
    }
   ],
   "source": [
    "model.summary()"
   ]
  },
  {
   "cell_type": "markdown",
   "id": "d04ee339-1654-467e-8f96-041cca799710",
   "metadata": {
    "tags": []
   },
   "source": [
    "#### Train"
   ]
  },
  {
   "cell_type": "code",
   "execution_count": 6,
   "id": "5875b8ca-0093-45f5-ab71-5188d6aa938e",
   "metadata": {},
   "outputs": [],
   "source": [
    "#model.fit(, epochs=10)"
   ]
  },
  {
   "cell_type": "markdown",
   "id": "bc8a12ef-80ef-49b7-a804-8754815d0bab",
   "metadata": {
    "tags": []
   },
   "source": [
    "#### Evaluate"
   ]
  },
  {
   "cell_type": "code",
   "execution_count": 7,
   "id": "7f26ad9a-b173-43bd-b955-257bff8f1924",
   "metadata": {},
   "outputs": [],
   "source": [
    "#loss, accuracy = model.evaluate(, verbose=2)"
   ]
  },
  {
   "cell_type": "code",
   "execution_count": null,
   "id": "e9d15a09-be64-4d68-bfbb-e49c5a7fe2fa",
   "metadata": {},
   "outputs": [],
   "source": []
  }
 ],
 "metadata": {
  "kernelspec": {
   "display_name": "Python 3 (ipykernel)",
   "language": "python",
   "name": "python3"
  },
  "language_info": {
   "codemirror_mode": {
    "name": "ipython",
    "version": 3
   },
   "file_extension": ".py",
   "mimetype": "text/x-python",
   "name": "python",
   "nbconvert_exporter": "python",
   "pygments_lexer": "ipython3",
   "version": "3.10.4"
  }
 },
 "nbformat": 4,
 "nbformat_minor": 5
}
