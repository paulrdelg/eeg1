{
 "cells": [
  {
   "cell_type": "markdown",
   "id": "cdfbdb28-4f9a-43f9-a016-244e9526806e",
   "metadata": {},
   "source": [
    "### Imports"
   ]
  },
  {
   "cell_type": "code",
   "execution_count": 1,
   "id": "8061afc1-1060-4ed2-9ced-000293a3b200",
   "metadata": {},
   "outputs": [],
   "source": [
    "# Packages\n",
    "import tensorflow as tf"
   ]
  },
  {
   "cell_type": "markdown",
   "id": "06ee7812-caeb-4718-b8b3-4769af91af29",
   "metadata": {},
   "source": [
    "#### Build model"
   ]
  },
  {
   "cell_type": "code",
   "execution_count": 2,
   "id": "4c619bde-1944-4722-a298-faffe909a97b",
   "metadata": {},
   "outputs": [],
   "source": [
    "model = tf.keras.Sequential()"
   ]
  },
  {
   "cell_type": "code",
   "execution_count": 3,
   "id": "7829f94f-64c8-40c3-9df4-0e54b41b5517",
   "metadata": {},
   "outputs": [],
   "source": [
    "model.add(tf.keras.Input(shape=8, name=\"inputLayer\"))\n",
    "model.add(tf.keras.layers.Dense(512*4))\n",
    "#model.add(tf.keras.layers.Conv1D(40, 10, activation='relu'))\n",
    "model.add(tf.keras.layers.Dense(5, activation = tf.nn.softmax))"
   ]
  },
  {
   "cell_type": "code",
   "execution_count": 4,
   "id": "24ad01c8-b519-43d8-b0e6-a6f1006b0de7",
   "metadata": {},
   "outputs": [],
   "source": [
    "model.compile(loss=tf.keras.losses.MeanAbsoluteError(), \n",
    "              optimizer=tf.keras.optimizers.Adam(), \n",
    "              metrics=tf.keras.metrics.Accuracy())"
   ]
  },
  {
   "cell_type": "code",
   "execution_count": null,
   "id": "2b161af7-2a89-471c-82bc-05e16d12a719",
   "metadata": {},
   "outputs": [],
   "source": [
    "model.summary()"
   ]
  },
  {
   "cell_type": "markdown",
   "id": "d04ee339-1654-467e-8f96-041cca799710",
   "metadata": {},
   "source": [
    "Train"
   ]
  },
  {
   "cell_type": "code",
   "execution_count": 5,
   "id": "5875b8ca-0093-45f5-ab71-5188d6aa938e",
   "metadata": {},
   "outputs": [
    {
     "ename": "NameError",
     "evalue": "name 'train_dataset_tf' is not defined",
     "output_type": "error",
     "traceback": [
      "\u001b[1;31m---------------------------------------------------------------------------\u001b[0m",
      "\u001b[1;31mNameError\u001b[0m                                 Traceback (most recent call last)",
      "Input \u001b[1;32mIn [5]\u001b[0m, in \u001b[0;36m<cell line: 1>\u001b[1;34m()\u001b[0m\n\u001b[1;32m----> 1\u001b[0m model\u001b[38;5;241m.\u001b[39mfit(\u001b[43mtrain_dataset_tf\u001b[49m, epochs\u001b[38;5;241m=\u001b[39m\u001b[38;5;241m10\u001b[39m)\n",
      "\u001b[1;31mNameError\u001b[0m: name 'train_dataset_tf' is not defined"
     ]
    }
   ],
   "source": [
    "model.fit(train_dataset_tf, epochs=10)"
   ]
  },
  {
   "cell_type": "markdown",
   "id": "bc8a12ef-80ef-49b7-a804-8754815d0bab",
   "metadata": {},
   "source": [
    "Eva"
   ]
  }
 ],
 "metadata": {
  "kernelspec": {
   "display_name": "Python 3 (ipykernel)",
   "language": "python",
   "name": "python3"
  },
  "language_info": {
   "codemirror_mode": {
    "name": "ipython",
    "version": 3
   },
   "file_extension": ".py",
   "mimetype": "text/x-python",
   "name": "python",
   "nbconvert_exporter": "python",
   "pygments_lexer": "ipython3",
   "version": "3.10.4"
  }
 },
 "nbformat": 4,
 "nbformat_minor": 5
}
